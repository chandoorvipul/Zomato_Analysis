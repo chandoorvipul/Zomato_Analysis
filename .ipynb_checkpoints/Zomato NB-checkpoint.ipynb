{
 "cells": [
  {
   "cell_type": "code",
   "execution_count": 1,
   "metadata": {
    "scrolled": true
   },
   "outputs": [
    {
     "name": "stdout",
     "output_type": "stream",
     "text": [
      "Restaurant_ID           0\n",
      "Restaurant_Name         0\n",
      "Country_Code            0\n",
      "City                    0\n",
      "Address                 0\n",
      "Locality                0\n",
      "Locality_Verbose        0\n",
      "Longitude               0\n",
      "Latitude                0\n",
      "Cuisines                0\n",
      "Average_Cost_for_two    0\n",
      "Currency                0\n",
      "Has_Table_booking       0\n",
      "Has_Online_delivery     0\n",
      "Is_delivering_now       0\n",
      "Switch_to_order_menu    0\n",
      "Price_range             0\n",
      "Aggregate_rating        0\n",
      "Rating_color            0\n",
      "Rating_text             0\n",
      "Votes                   0\n",
      "dtype: int64\n",
      "False\n",
      "0\n"
     ]
    }
   ],
   "source": [
    "import pandas as pd \n",
    "import numpy as np\n",
    "import matplotlib.pyplot as plt\n",
    "data = pd.read_csv(\"Zomato.csv\", encoding = 'latin1')\n",
    "d = data.head(10);\n",
    "data.dropna()\n",
    "data = data[pd.notnull(data['Cuisines'])]\n",
    "data.columns = data.columns.str.replace(' ', '_')\n",
    "print(data.isnull().sum())\n",
    "print(data.isnull().values.any())\n",
    "print(data.isnull().sum().sum())"
   ]
  },
  {
   "cell_type": "code",
   "execution_count": 2,
   "metadata": {},
   "outputs": [
    {
     "name": "stdout",
     "output_type": "stream",
     "text": [
      "1495919\n",
      "Index(['Restaurant_ID', 'Restaurant_Name', 'Country_Code', 'City', 'Address',\n",
      "       'Locality', 'Locality_Verbose', 'Longitude', 'Latitude', 'Cuisines',\n",
      "       'Average_Cost_for_two', 'Currency', 'Has_Table_booking',\n",
      "       'Has_Online_delivery', 'Is_delivering_now', 'Switch_to_order_menu',\n",
      "       'Price_range', 'Aggregate_rating', 'Rating_color', 'Rating_text',\n",
      "       'Votes'],\n",
      "      dtype='object')\n"
     ]
    }
   ],
   "source": [
    "count = data['Votes'].sum()\n",
    "print(count)\n",
    "print(data.columns)"
   ]
  },
  {
   "cell_type": "code",
   "execution_count": null,
   "metadata": {},
   "outputs": [],
   "source": [
    "print(data)\n",
    "print(data.isnull().sum())\n",
    "plt.plot(data.Cuisines,data.Votes)"
   ]
  },
  {
   "cell_type": "code",
   "execution_count": null,
   "metadata": {},
   "outputs": [],
   "source": [
    "sum = data['Votes'].sum()\n",
    "print(sum)\n",
    "plt.plot(data.Votes,data.Currency, 'o')\n",
    "plt.xlabel('Votes')\n",
    "plt.ylabel('Currency')\n",
    "plt.title('Votes VS Currency')\n",
    "plt.show()"
   ]
  },
  {
   "cell_type": "code",
   "execution_count": null,
   "metadata": {},
   "outputs": [],
   "source": [
    "data1 = data.groupby('Aggregate_rating').sum()\n",
    "print(data1)"
   ]
  },
  {
   "cell_type": "code",
   "execution_count": null,
   "metadata": {},
   "outputs": [],
   "source": [
    "data.columns = data.columns.str.replace(' ', '_')\n",
    "print(data1.columns)\n",
    "plt.plot(data.Votes,data.Average_Cost_for_two, 'o')\n",
    "plt.xlabel('Votes')\n",
    "plt.ylabel('Average_Cost_for_two')\n",
    "plt.title('Votes VS Average_Cost_for_two')\n",
    "plt.show()"
   ]
  },
  {
   "cell_type": "code",
   "execution_count": null,
   "metadata": {},
   "outputs": [],
   "source": [
    "plt.plot(data.Cuisines,data.Votes)\n",
    "plt.xlabel('Votes')\n",
    "plt.ylabel('Average_Cost_for_two')\n",
    "plt.title('Votes VS Average_Cost_for_two')\n",
    "plt.show()"
   ]
  },
  {
   "cell_type": "code",
   "execution_count": null,
   "metadata": {},
   "outputs": [],
   "source": []
  }
 ],
 "metadata": {
  "kernelspec": {
   "display_name": "Python 3 (Spyder)",
   "language": "python3",
   "name": "python3"
  },
  "language_info": {
   "codemirror_mode": {
    "name": "ipython",
    "version": 3
   },
   "file_extension": ".py",
   "mimetype": "text/x-python",
   "name": "python",
   "nbconvert_exporter": "python",
   "pygments_lexer": "ipython3",
   "version": "3.7.3"
  }
 },
 "nbformat": 4,
 "nbformat_minor": 2
}
